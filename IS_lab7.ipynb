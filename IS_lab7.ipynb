{
 "cells": [
  {
   "cell_type": "code",
   "execution_count": 1,
   "id": "54908b72",
   "metadata": {
    "scrolled": true
   },
   "outputs": [],
   "source": [
    "alph=[\"А\", \"Б\", \"В\", \"Г\", \"Д\", \"Е\", \"Ж\", \"З\", \"И\", \"Й\", \"К\", \"Л\", \"М\", \"Н\", \"О\", \"П\", \"Р\", \"С\", \"Т\", \"У\", \"Ф\", \"Х\", \"Ц\", \"Ч\", \"Ш\", \"Щ\", \"Ъ\", \"Ы\", \"Ь\", \"Э\", \"Ю\", \"Я\", \"а\", \"б\", \"в\", \"г\", \"д\", \"е\", \"ж\", \"з\", \"и\", \"й\", \"к\", \"л\", \"м\", \"н\", \"о\", \"п\", \"р\", \"с\", \"т\", \"у\", \"ф\", \"х\", \"ц\", \"ч\", \"ш\", \"щ\", \"ъ\", \"ы\", \"ь\", \"э\", \"ю\", \"я\", \" \", \"!\", \",\"]"
   ]
  },
  {
   "cell_type": "code",
   "execution_count": 2,
   "id": "2df10964",
   "metadata": {},
   "outputs": [],
   "source": [
    "alph_16=[]\n",
    "q=hex(int('C0', 16))\n",
    "for i in range(64):\n",
    "    alph_16.append(q)\n",
    "    q=hex(int(q, 16)+int('1',16))\n",
    "alph_16.append(hex(int('20',16)))\n",
    "alph_16.append(hex(int('21',16)))\n",
    "alph_16.append(hex(int('22',16)))"
   ]
  },
  {
   "cell_type": "code",
   "execution_count": 3,
   "id": "1c50f37d",
   "metadata": {},
   "outputs": [
    {
     "data": {
      "text/plain": [
       "22"
      ]
     },
     "execution_count": 3,
     "metadata": {},
     "output_type": "execute_result"
    }
   ],
   "source": [
    "line = 'С Новым Годом, друзья!'\n",
    "len(line)"
   ]
  },
  {
   "cell_type": "code",
   "execution_count": 4,
   "id": "bff8ec02",
   "metadata": {},
   "outputs": [],
   "source": [
    "list_1=list(line)"
   ]
  },
  {
   "cell_type": "code",
   "execution_count": 5,
   "id": "c9861da3",
   "metadata": {},
   "outputs": [
    {
     "data": {
      "text/plain": [
       "['С',\n",
       " ' ',\n",
       " 'Н',\n",
       " 'о',\n",
       " 'в',\n",
       " 'ы',\n",
       " 'м',\n",
       " ' ',\n",
       " 'Г',\n",
       " 'о',\n",
       " 'д',\n",
       " 'о',\n",
       " 'м',\n",
       " ',',\n",
       " ' ',\n",
       " 'д',\n",
       " 'р',\n",
       " 'у',\n",
       " 'з',\n",
       " 'ь',\n",
       " 'я',\n",
       " '!']"
      ]
     },
     "execution_count": 5,
     "metadata": {},
     "output_type": "execute_result"
    }
   ],
   "source": [
    "list_1"
   ]
  },
  {
   "cell_type": "code",
   "execution_count": 6,
   "id": "eb36f529",
   "metadata": {},
   "outputs": [
    {
     "name": "stdout",
     "output_type": "stream",
     "text": [
      "e7\n",
      "34\n",
      "46\n",
      "83\n",
      "1\n",
      "f\n",
      "a9\n",
      "22\n",
      "b9\n",
      "16\n",
      "e8\n",
      "5b\n",
      "48\n",
      "a0\n",
      "48\n",
      "f1\n",
      "5a\n",
      "25\n",
      "8e\n",
      "26\n",
      "5c\n",
      "de\n"
     ]
    }
   ],
   "source": [
    "from random import randint\n",
    "\n",
    "key=[]\n",
    "for i in range(len(line)):\n",
    "    x=randint (0,255)\n",
    "    x=hex(x)\n",
    "    key.append(x)\n",
    "    print(x.replace(\"0x\",\"\"))"
   ]
  },
  {
   "cell_type": "code",
   "execution_count": 7,
   "id": "0b6ac610",
   "metadata": {},
   "outputs": [
    {
     "name": "stdout",
     "output_type": "stream",
     "text": [
      "d1\n",
      "20\n",
      "cd\n",
      "ee\n",
      "e2\n",
      "fb\n",
      "ec\n",
      "20\n",
      "c3\n",
      "ee\n",
      "e4\n",
      "ee\n",
      "ec\n",
      "22\n",
      "20\n",
      "e4\n",
      "f0\n",
      "f3\n",
      "e7\n",
      "fc\n",
      "ff\n",
      "21\n"
     ]
    }
   ],
   "source": [
    "list_16=[]\n",
    "def into_list_16(list_1, alphabet, alphabet_16, list_16):\n",
    "    for i in range(len(list_1)):\n",
    "        for j in range(len(alphabet)):\n",
    "            if list_1[i]==alphabet[j]:\n",
    "                for k in range (len(alphabet_16)):\n",
    "                    if j==k:\n",
    "                        list_16.append(alphabet_16[k])\n",
    "                        print(alphabet_16[k].replace(\"0x\",\"\"))\n",
    "into_list_16(list_1, alph, alph_16, list_16)"
   ]
  },
  {
   "cell_type": "code",
   "execution_count": 8,
   "id": "fa27d476",
   "metadata": {},
   "outputs": [
    {
     "name": "stdout",
     "output_type": "stream",
     "text": [
      "36\n",
      "14\n",
      "8b\n",
      "6d\n",
      "e3\n",
      "f4\n",
      "45\n",
      "2\n",
      "7a\n",
      "f8\n",
      "c\n",
      "b5\n",
      "a4\n",
      "82\n",
      "68\n",
      "15\n",
      "aa\n",
      "d6\n",
      "69\n",
      "da\n",
      "a3\n",
      "ff\n"
     ]
    }
   ],
   "source": [
    "cipher=[]\n",
    "def into_cipher(list_16, key, cipher):\n",
    "    for i in range(len(list_16)):\n",
    "        for j in range(len(key)):\n",
    "            if i==j:\n",
    "                x=hex(int(list_16[i],16) ^ int(key[j],16))\n",
    "                cipher.append(x)\n",
    "                print(x.replace(\"0x\",\"\"))\n",
    "into_cipher(list_16, key, cipher)"
   ]
  },
  {
   "cell_type": "code",
   "execution_count": 9,
   "id": "25c6e725",
   "metadata": {},
   "outputs": [
    {
     "data": {
      "text/plain": [
       "22"
      ]
     },
     "execution_count": 9,
     "metadata": {},
     "output_type": "execute_result"
    }
   ],
   "source": [
    "line_1 = 'С Новым Мячом, друзья!'\n",
    "len(line_1)"
   ]
  },
  {
   "cell_type": "code",
   "execution_count": 10,
   "id": "db9df434",
   "metadata": {},
   "outputs": [
    {
     "data": {
      "text/plain": [
       "['С',\n",
       " ' ',\n",
       " 'Н',\n",
       " 'о',\n",
       " 'в',\n",
       " 'ы',\n",
       " 'м',\n",
       " ' ',\n",
       " 'М',\n",
       " 'я',\n",
       " 'ч',\n",
       " 'о',\n",
       " 'м',\n",
       " ',',\n",
       " ' ',\n",
       " 'д',\n",
       " 'р',\n",
       " 'у',\n",
       " 'з',\n",
       " 'ь',\n",
       " 'я',\n",
       " '!']"
      ]
     },
     "execution_count": 10,
     "metadata": {},
     "output_type": "execute_result"
    }
   ],
   "source": [
    "list_2=list(line_1)\n",
    "list_2"
   ]
  },
  {
   "cell_type": "code",
   "execution_count": 11,
   "id": "3e1a733d",
   "metadata": {},
   "outputs": [
    {
     "name": "stdout",
     "output_type": "stream",
     "text": [
      "d1\n",
      "20\n",
      "cd\n",
      "ee\n",
      "e2\n",
      "fb\n",
      "ec\n",
      "20\n",
      "cc\n",
      "ff\n",
      "f7\n",
      "ee\n",
      "ec\n",
      "22\n",
      "20\n",
      "e4\n",
      "f0\n",
      "f3\n",
      "e7\n",
      "fc\n",
      "ff\n",
      "21\n"
     ]
    }
   ],
   "source": [
    "list_16_2=[]\n",
    "into_list_16(list_2, alph, alph_16, list_16_2)"
   ]
  },
  {
   "cell_type": "code",
   "execution_count": 12,
   "id": "4d66827f",
   "metadata": {},
   "outputs": [
    {
     "name": "stdout",
     "output_type": "stream",
     "text": [
      "e7\n",
      "34\n",
      "46\n",
      "83\n",
      "1\n",
      "f\n",
      "a9\n",
      "22\n",
      "b6\n",
      "7\n",
      "fb\n",
      "5b\n",
      "48\n",
      "a0\n",
      "48\n",
      "f1\n",
      "5a\n",
      "25\n",
      "8e\n",
      "26\n",
      "5c\n",
      "de\n"
     ]
    }
   ],
   "source": [
    "key_2=[]\n",
    "def into_key(cipher, list_16, key):\n",
    "    for i in range(len(cipher)):\n",
    "        for j in range(len(list_16)):\n",
    "            if i==j:\n",
    "                x=hex(int(cipher[i],16) ^ int(list_16[j],16))\n",
    "                key_2.append(x)\n",
    "                print(x.replace(\"0x\",\"\"))\n",
    "into_key(cipher, list_16_2, key_2)"
   ]
  },
  {
   "cell_type": "code",
   "execution_count": null,
   "id": "f4c8ffb9",
   "metadata": {},
   "outputs": [],
   "source": []
  },
  {
   "cell_type": "code",
   "execution_count": null,
   "id": "b8a01e56",
   "metadata": {},
   "outputs": [],
   "source": []
  }
 ],
 "metadata": {
  "kernelspec": {
   "display_name": "Python 3",
   "language": "python",
   "name": "python3"
  },
  "language_info": {
   "codemirror_mode": {
    "name": "ipython",
    "version": 3
   },
   "file_extension": ".py",
   "mimetype": "text/x-python",
   "name": "python",
   "nbconvert_exporter": "python",
   "pygments_lexer": "ipython3",
   "version": "3.8.8"
  }
 },
 "nbformat": 4,
 "nbformat_minor": 5
}
