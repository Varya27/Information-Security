{
 "cells": [
  {
   "cell_type": "code",
   "execution_count": 1,
   "id": "5c2a8525",
   "metadata": {},
   "outputs": [],
   "source": [
    "alph=[\"А\", \"Б\", \"В\", \"Г\", \"Д\", \"Е\", \"Ж\", \"З\", \"И\", \"Й\", \"К\", \"Л\", \"М\", \"Н\", \"О\", \"П\", \"Р\", \"С\", \"Т\", \"У\", \"Ф\", \"Х\", \"Ц\", \"Ч\", \"Ш\", \"Щ\", \"Ъ\", \"Ы\", \"Ь\", \"Э\", \"Ю\", \"Я\", \"а\", \"б\", \"в\", \"г\", \"д\", \"е\", \"ж\", \"з\", \"и\", \"й\", \"к\", \"л\", \"м\", \"н\", \"о\", \"п\", \"р\", \"с\", \"т\", \"у\", \"ф\", \"х\", \"ц\", \"ч\", \"ш\", \"щ\", \"ъ\", \"ы\", \"ь\", \"э\", \"ю\", \"я\", \" \", \"!\", \",\"]"
   ]
  },
  {
   "cell_type": "code",
   "execution_count": 2,
   "id": "c854db30",
   "metadata": {},
   "outputs": [],
   "source": [
    "alph_16=[]\n",
    "q=hex(int('C0', 16))\n",
    "for i in range(64):\n",
    "    alph_16.append(q)\n",
    "    q=hex(int(q, 16)+int('1',16))\n",
    "alph_16.append(hex(int('20',16)))\n",
    "alph_16.append(hex(int('21',16)))\n",
    "alph_16.append(hex(int('22',16)))"
   ]
  },
  {
   "cell_type": "code",
   "execution_count": 3,
   "id": "ea17ba60",
   "metadata": {},
   "outputs": [
    {
     "data": {
      "text/plain": [
       "22"
      ]
     },
     "execution_count": 3,
     "metadata": {},
     "output_type": "execute_result"
    }
   ],
   "source": [
    "line_1 = 'С Новым Годом, друзья!'\n",
    "len(line_1)"
   ]
  },
  {
   "cell_type": "code",
   "execution_count": 4,
   "id": "8c2a27c7",
   "metadata": {},
   "outputs": [
    {
     "data": {
      "text/plain": [
       "22"
      ]
     },
     "execution_count": 4,
     "metadata": {},
     "output_type": "execute_result"
    }
   ],
   "source": [
    "line_2 = 'С Новым Мячом, друзья!'\n",
    "len(line_2)"
   ]
  },
  {
   "cell_type": "code",
   "execution_count": 8,
   "id": "ffec7090",
   "metadata": {},
   "outputs": [],
   "source": [
    "list_1=list(line_1)"
   ]
  },
  {
   "cell_type": "code",
   "execution_count": 9,
   "id": "d2981b78",
   "metadata": {},
   "outputs": [],
   "source": [
    "list_2=list(line_2)"
   ]
  },
  {
   "cell_type": "code",
   "execution_count": 6,
   "id": "46203c8d",
   "metadata": {},
   "outputs": [
    {
     "name": "stdout",
     "output_type": "stream",
     "text": [
      "c0\n",
      "6f\n",
      "df\n",
      "89\n",
      "58\n",
      "36\n",
      "16\n",
      "cd\n",
      "af\n",
      "bb\n",
      "5b\n",
      "54\n",
      "94\n",
      "13\n",
      "16\n",
      "17\n",
      "4a\n",
      "ff\n",
      "58\n",
      "5e\n",
      "42\n",
      "b\n"
     ]
    }
   ],
   "source": [
    "from random import randint\n",
    "\n",
    "key=[]\n",
    "for i in range(len(line_1)):\n",
    "    x=randint (0,255)\n",
    "    x=hex(x)\n",
    "    key.append(x)\n",
    "    print(x.replace(\"0x\",\"\"))"
   ]
  },
  {
   "cell_type": "code",
   "execution_count": 10,
   "id": "36b499c7",
   "metadata": {},
   "outputs": [
    {
     "name": "stdout",
     "output_type": "stream",
     "text": [
      "d1\n",
      "20\n",
      "cd\n",
      "ee\n",
      "e2\n",
      "fb\n",
      "ec\n",
      "20\n",
      "c3\n",
      "ee\n",
      "e4\n",
      "ee\n",
      "ec\n",
      "22\n",
      "20\n",
      "e4\n",
      "f0\n",
      "f3\n",
      "e7\n",
      "fc\n",
      "ff\n",
      "21\n"
     ]
    }
   ],
   "source": [
    "list_16_1=[]\n",
    "def into_list_16(list_1, alphabet, alphabet_16, list_16):\n",
    "    for i in range(len(list_1)):\n",
    "        for j in range(len(alphabet)):\n",
    "            if list_1[i]==alphabet[j]:\n",
    "                for k in range (len(alphabet_16)):\n",
    "                    if j==k:\n",
    "                        list_16.append(alphabet_16[k])\n",
    "                        print(alphabet_16[k].replace(\"0x\",\"\"))\n",
    "into_list_16(list_1, alph, alph_16, list_16_1)"
   ]
  },
  {
   "cell_type": "code",
   "execution_count": 11,
   "id": "88b4b374",
   "metadata": {},
   "outputs": [
    {
     "name": "stdout",
     "output_type": "stream",
     "text": [
      "d1\n",
      "20\n",
      "cd\n",
      "ee\n",
      "e2\n",
      "fb\n",
      "ec\n",
      "20\n",
      "cc\n",
      "ff\n",
      "f7\n",
      "ee\n",
      "ec\n",
      "22\n",
      "20\n",
      "e4\n",
      "f0\n",
      "f3\n",
      "e7\n",
      "fc\n",
      "ff\n",
      "21\n"
     ]
    }
   ],
   "source": [
    "list_16_2=[]\n",
    "def into_list_16(list_1, alphabet, alphabet_16, list_16):\n",
    "    for i in range(len(list_1)):\n",
    "        for j in range(len(alphabet)):\n",
    "            if list_1[i]==alphabet[j]:\n",
    "                for k in range (len(alphabet_16)):\n",
    "                    if j==k:\n",
    "                        list_16.append(alphabet_16[k])\n",
    "                        print(alphabet_16[k].replace(\"0x\",\"\"))\n",
    "into_list_16(list_2, alph, alph_16, list_16_2)"
   ]
  },
  {
   "cell_type": "code",
   "execution_count": 12,
   "id": "e1d2383f",
   "metadata": {},
   "outputs": [
    {
     "name": "stdout",
     "output_type": "stream",
     "text": [
      "11\n",
      "4f\n",
      "12\n",
      "67\n",
      "ba\n",
      "cd\n",
      "fa\n",
      "ed\n",
      "6c\n",
      "55\n",
      "bf\n",
      "ba\n",
      "78\n",
      "31\n",
      "36\n",
      "f3\n",
      "ba\n",
      "c\n",
      "bf\n",
      "a2\n",
      "bd\n",
      "2a\n"
     ]
    }
   ],
   "source": [
    "cipher_1=[]\n",
    "def into_cipher(list_16, key, cipher):\n",
    "    for i in range(len(list_16)):\n",
    "        for j in range(len(key)):\n",
    "            if i==j:\n",
    "                x=hex(int(list_16[i],16) ^ int(key[j],16))\n",
    "                cipher.append(x)\n",
    "                print(x.replace(\"0x\",\"\"))\n",
    "into_cipher(list_16_1, key, cipher_1)"
   ]
  },
  {
   "cell_type": "code",
   "execution_count": 13,
   "id": "91360a9e",
   "metadata": {},
   "outputs": [
    {
     "name": "stdout",
     "output_type": "stream",
     "text": [
      "11\n",
      "4f\n",
      "12\n",
      "67\n",
      "ba\n",
      "cd\n",
      "fa\n",
      "ed\n",
      "63\n",
      "44\n",
      "ac\n",
      "ba\n",
      "78\n",
      "31\n",
      "36\n",
      "f3\n",
      "ba\n",
      "c\n",
      "bf\n",
      "a2\n",
      "bd\n",
      "2a\n"
     ]
    }
   ],
   "source": [
    "cipher_2=[]\n",
    "def into_cipher(list_16, key, cipher):\n",
    "    for i in range(len(list_16)):\n",
    "        for j in range(len(key)):\n",
    "            if i==j:\n",
    "                x=hex(int(list_16[i],16) ^ int(key[j],16))\n",
    "                cipher.append(x)\n",
    "                print(x.replace(\"0x\",\"\"))\n",
    "into_cipher(list_16_2, key, cipher_2)"
   ]
  },
  {
   "cell_type": "code",
   "execution_count": 15,
   "id": "295ad326",
   "metadata": {},
   "outputs": [
    {
     "name": "stdout",
     "output_type": "stream",
     "text": [
      "d1\n",
      "20\n",
      "cd\n",
      "ee\n",
      "e2\n",
      "fb\n",
      "ec\n",
      "20\n",
      "c3\n",
      "ee\n",
      "e4\n",
      "ee\n",
      "ec\n",
      "22\n",
      "20\n",
      "e4\n",
      "f0\n",
      "f3\n",
      "e7\n",
      "fc\n",
      "ff\n",
      "21\n"
     ]
    }
   ],
   "source": [
    "P1=[]\n",
    "def get_P(P1, P2, C1, C2):\n",
    "    for i in range(len(C1)):\n",
    "        for j in range(len(C2)):\n",
    "            if i==j:\n",
    "                for k in range(len(P2)):\n",
    "                    if j==k:\n",
    "                        x=hex(int(C1[i],16) ^ int(C2[j],16))\n",
    "                        x.replace(\"0x\",\"\")\n",
    "                        x=hex(int(P2[k],16) ^ int(x,16))\n",
    "                        P1.append(x)\n",
    "                        print(x.replace(\"0x\",\"\"))\n",
    "get_P(P1, list_16_2, cipher_1, cipher_2)"
   ]
  },
  {
   "cell_type": "code",
   "execution_count": 17,
   "id": "b3eb29e0",
   "metadata": {},
   "outputs": [
    {
     "name": "stdout",
     "output_type": "stream",
     "text": [
      "Yes\n"
     ]
    }
   ],
   "source": [
    "if list_16_1==P1:\n",
    "    print('Yes')"
   ]
  },
  {
   "cell_type": "code",
   "execution_count": null,
   "id": "a13a8f3f",
   "metadata": {},
   "outputs": [],
   "source": []
  }
 ],
 "metadata": {
  "kernelspec": {
   "display_name": "Python 3",
   "language": "python",
   "name": "python3"
  },
  "language_info": {
   "codemirror_mode": {
    "name": "ipython",
    "version": 3
   },
   "file_extension": ".py",
   "mimetype": "text/x-python",
   "name": "python",
   "nbconvert_exporter": "python",
   "pygments_lexer": "ipython3",
   "version": "3.8.8"
  }
 },
 "nbformat": 4,
 "nbformat_minor": 5
}
